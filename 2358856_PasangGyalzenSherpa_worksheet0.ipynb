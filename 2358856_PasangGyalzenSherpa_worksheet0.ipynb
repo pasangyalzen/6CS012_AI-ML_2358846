{
 "cells": [
  {
   "cell_type": "code",
   "execution_count": 2,
   "metadata": {},
   "outputs": [
    {
     "name": "stdout",
     "output_type": "stream",
     "text": [
      "Welcome to the unit converter\n",
      "Choose a conversion type: Length, weight, volume\n",
      "4.0 kilometers is equal to 4000.0000 meters\n"
     ]
    }
   ],
   "source": [
    "#Task 1\n",
    "def convert_length(value, from_unit, to_unit):\n",
    "  length_units = {\n",
    "      \"meters\": 1, \"kilometers\" : 0.001 , \"miles\" : 0.000621371 , \"feet\" : 3.28084, \"inches\" : 39.3701\n",
    "  } \n",
    "  if from_unit in length_units and to_unit in length_units:\n",
    "    return value * (length_units[to_unit]/length_units[from_unit])\n",
    "  else: \n",
    "    return None \n",
    "\n",
    "def convert_weight(value, from_unit, to_unit):\n",
    "  weight_units = {\n",
    "      \"grams\" : 1 , \"kilograms\" : 0.001 , \"pounds\" : 0.00220462 , \"ounces\" : 0.035724\n",
    "  }\n",
    "  if from_unit in weight_units and to_unit in weight_units:\n",
    "    return value * (weight_units[from_unit] / weight_units[from_unit])\n",
    "  else:\n",
    "    return None \n",
    "\n",
    "def convert_volume(value , from_unit, to_unit):\n",
    "  volume_units = {\n",
    "      \"litres\":1 , \"millilitres\" : 1000, \"gallons\" : 0.264172, \"cups\" : 4.22675 \n",
    "  }\n",
    "  if from_unit in volume_units and to_unit in volume_units:\n",
    "    return value * volume_units[from_unit]/volume_units[to_unit]\n",
    "  else: \n",
    "    return None \n",
    "\n",
    "def main():\n",
    "  print(\"Welcome to the unit converter\")\n",
    "  print(\"Choose a conversion type: Length, weight, volume\")\n",
    "  conversion_type = input(\"Enter conversion type: \").strip().lower()\n",
    "  if conversion_type not in [\"length\",\"weight\", \"volume\"]:\n",
    "    print(\"Invalid Conversion Type.Please enter 'length','weight','volume'\")\n",
    "    return\n",
    "\n",
    "  try:\n",
    "    value = float(input(\"Enter the value to convert:\"))\n",
    "  except ValueError:\n",
    "    print(\"Invalid Input. Please enter a numerical value.\")\n",
    "    return\n",
    "\n",
    "  from_unit = input(\"Enter the unit you are converting from : \").strip().lower()\n",
    "  to_unit = input(\"Enter the unit you are converting to:\").strip().lower()\n",
    "\n",
    "  if conversion_type == \"length\":\n",
    "    result = convert_length(value, from_unit, to_unit)\n",
    "  elif conversion_type == \"weight\":\n",
    "    result = convert_weight(value, from_unit, to_unit)\n",
    "  elif conversion_type == \"volume\":\n",
    "    result = convert_length(value, from_unit, to_unit)\n",
    "  else:\n",
    "     result = None \n",
    "\n",
    "  if result is not None:\n",
    "    print(f\"{value} {from_unit} is equal to {result:.4f} {to_unit}\")\n",
    "\n",
    "  else: \n",
    "    print(\"Invalid unit selection. Please check your unit inputs.\")\n",
    "\n",
    "if __name__ == \"__main__\":\n",
    "  main()"
   ]
  },
  {
   "cell_type": "code",
   "execution_count": 24,
   "metadata": {},
   "outputs": [
    {
     "name": "stdout",
     "output_type": "stream",
     "text": [
      "Welcome to the Math Operation Program\n",
      "Choose an operation: Sum,Average,Max, Min\n",
      "The result of sum operation is : 6.0\n"
     ]
    }
   ],
   "source": [
    "#Task 2\n",
    "def calculate_sum(numbers):\n",
    "  return sum(numbers)\n",
    "\n",
    "def calculate_average(numbers):\n",
    "  return sum(numbers) / len(numbers) if numbers else None\n",
    "\n",
    "def find_maximum(numbers):\n",
    "  return max(numbers)\n",
    "\n",
    "def find_minimum(numbers):\n",
    "  return min(numbers)\n",
    "\n",
    "def main(): \n",
    "  print(\"Welcome to the Math Operation Program\")\n",
    "  print(\"Choose an operation: Sum,Average,Max, Min\")\n",
    "  operation = input(\"Please enter the operation\").strip().lower()\n",
    "  if operation not in [\"sum\",'average', 'max', 'min']:\n",
    "    print(\"Please enter a valid operation\")\n",
    "    return\n",
    "  numbers_input = input(\"Please enter the list of numbers seperated by spaces.\").strip()\n",
    "  try: \n",
    "    numbers = [float(num) for num in numbers_input.split()]\n",
    "    if not numbers:\n",
    "      raise ValueError(\"List is empty\")\n",
    "  except ValueError:\n",
    "      print(\"Please enter a valid list of numbers\")\n",
    "      return \n",
    "  \n",
    "  if operation == \"sum\":\n",
    "    result = calculate_sum(numbers)\n",
    "  elif operation == \"average\":\n",
    "    result = calculate_average(numbers)\n",
    "  elif operation == \"max\":\n",
    "    result = find_maximum(numbers)\n",
    "  elif operation == \"min\":\n",
    "    result = find_minimum(numbers)\n",
    "  else:\n",
    "    result = None\n",
    "  \n",
    "  if result is not None :\n",
    "    print(f\"The result of {operation} operation is : {result}\")\n",
    "\n",
    "  else:\n",
    "    print(\"Could not perform the operation\")\n",
    "\n",
    "if __name__ == \"__main__\":\n",
    "  main()\n",
    "  \n"
   ]
  },
  {
   "cell_type": "code",
   "execution_count": 4,
   "metadata": {},
   "outputs": [
    {
     "name": "stdout",
     "output_type": "stream",
     "text": [
      "Original List: [1, 2, 3, 4, 5, 6]\n",
      "Output List: [1, 3, 5]\n"
     ]
    }
   ],
   "source": [
    "#Exercise 4.1 Task 1\n",
    "def extract_every_other(lst):\n",
    "  return lst[::2]\n",
    "\n",
    "input_list = [1,2,3,4,5,6]\n",
    "output_list = extract_every_other(input_list)\n",
    "print(\"Original List:\", input_list)\n",
    "print(\"Output List:\", output_list)\n"
   ]
  },
  {
   "cell_type": "code",
   "execution_count": 5,
   "metadata": {},
   "outputs": [
    {
     "name": "stdout",
     "output_type": "stream",
     "text": [
      "The sublist of the above list [1, 2, 3, 4, 5, 6] is \n",
      "[3, 4, 5]\n"
     ]
    }
   ],
   "source": [
    "#Exercise 4.1 Task 2\n",
    "def get_sublist(lst, start, end):\n",
    "  return lst[start:end + 1]\n",
    "\n",
    "input_list = [1,2,3,4,5,6]\n",
    "start_index = 2\n",
    "end_index = 4\n",
    "\n",
    "output_list = get_sublist(input_list, start_index, end_index)\n",
    "print(f\"The sublist of the above list {input_list} is \\n{output_list}\")"
   ]
  },
  {
   "cell_type": "code",
   "execution_count": 6,
   "metadata": {},
   "outputs": [
    {
     "name": "stdout",
     "output_type": "stream",
     "text": [
      "The reversed list is \n",
      " [5, 4, 3, 2, 1]\n"
     ]
    }
   ],
   "source": [
    "#Exercise 4.2 Task 3\n",
    "def reverse_list(lst):\n",
    "  return lst[::-1]\n",
    "\n",
    "input_list = [1,2,3,4,5]\n",
    "output_list = reverse_list(input_list)\n",
    "print(\"The reversed list is \\n\",output_list)"
   ]
  },
  {
   "cell_type": "code",
   "execution_count": 7,
   "metadata": {},
   "outputs": [
    {
     "name": "stdout",
     "output_type": "stream",
     "text": [
      "The list after removing the first and last elements is:  [2, 3, 4, 5, 6]\n"
     ]
    }
   ],
   "source": [
    "#Exercise 4.2 Task 4\n",
    "def remove_first_last(lst):\n",
    "  return lst[1:-1]\n",
    "\n",
    "input_list = [1,2,3,4,5,6,7]\n",
    "output_list = remove_first_last(input_list)\n",
    "print(\"The list after removing the first and last elements is: \", output_list)"
   ]
  },
  {
   "cell_type": "code",
   "execution_count": 8,
   "metadata": {},
   "outputs": [
    {
     "name": "stdout",
     "output_type": "stream",
     "text": [
      "The list till the index 3 is \n",
      " [1, 2, 3]\n"
     ]
    }
   ],
   "source": [
    "#Exercise 4.2 Task 5\n",
    "def get_first_n(lst,n):\n",
    "  return lst[:n]\n",
    "\n",
    "input_list = [1,2,3,4,5]\n",
    "n = 3 \n",
    "output_list = get_first_n(input_list,n)\n",
    "print(f\"The list till the index {n} is \\n {output_list}\")"
   ]
  },
  {
   "cell_type": "code",
   "execution_count": 9,
   "metadata": {},
   "outputs": [
    {
     "name": "stdout",
     "output_type": "stream",
     "text": [
      "The extracted list is [4, 5]\n"
     ]
    }
   ],
   "source": [
    "#Exercise 4.2 Task 6\n",
    "def get_last_n(lst,n):\n",
    "  return lst[-n:]\n",
    " \n",
    "input_list = [1,2,3,4,5]\n",
    "n = 2 \n",
    "output_list = get_last_n(input_list,n)\n",
    "print(f\"The extracted list is {output_list}\")"
   ]
  },
  {
   "cell_type": "code",
   "execution_count": 10,
   "metadata": {},
   "outputs": [
    {
     "name": "stdout",
     "output_type": "stream",
     "text": [
      "The new list is  [5, 3, 1]\n"
     ]
    }
   ],
   "source": [
    "#Exercise 4.2 Task 7\n",
    "def reverse_skip(lst):\n",
    "  return lst[-2::-2]\n",
    "\n",
    "input_list = [1,2,3,4,5,6]\n",
    "output_list = reverse_skip(input_list)\n",
    "print(\"The new list is \", output_list)"
   ]
  },
  {
   "cell_type": "code",
   "execution_count": 11,
   "metadata": {},
   "outputs": [
    {
     "name": "stdout",
     "output_type": "stream",
     "text": [
      "[1, 2, 3, 4, 5]\n"
     ]
    }
   ],
   "source": [
    "#Exercise 4.3 Task 1\n",
    "def flatten(lst):\n",
    "  flat_list = []\n",
    "  for item in lst:\n",
    "    if isinstance(item,list):\n",
    "      flat_list.extend(flatten(item))\n",
    "    else: \n",
    "      flat_list.append(item)\n",
    "  return flat_list\n",
    "\n",
    "input_list = [[1,2],[3,4],[5]]\n",
    "print(flatten(input_list))"
   ]
  },
  {
   "cell_type": "code",
   "execution_count": 12,
   "metadata": {},
   "outputs": [
    {
     "name": "stdout",
     "output_type": "stream",
     "text": [
      "6\n"
     ]
    }
   ],
   "source": [
    "#Exercise 4.3 Task 2\n",
    "def access_nested_element(lst, indices):\n",
    "  element = lst \n",
    "  for index in indices:\n",
    "    element = element[index]\n",
    "  return element\n",
    "\n",
    "nested_list = [[1,2,3],[4,5,6],[7,8,9]]\n",
    "indices = [1,2]\n",
    "print(access_nested_element(nested_list, indices))"
   ]
  },
  {
   "cell_type": "code",
   "execution_count": 13,
   "metadata": {},
   "outputs": [
    {
     "name": "stdout",
     "output_type": "stream",
     "text": [
      "21\n"
     ]
    }
   ],
   "source": [
    "#Exercise 4.3 Task 3\n",
    "def sum_nested(lst):\n",
    "  total = 0\n",
    "  for item in lst:\n",
    "    if isinstance(item,list):\n",
    "      total += sum_nested(item)\n",
    "    else:\n",
    "      total += item\n",
    "  return total\n",
    "\n",
    "input_list = [[1,2],[3,[4,5]],6]\n",
    "print(sum_nested(input_list))"
   ]
  },
  {
   "cell_type": "code",
   "execution_count": 14,
   "metadata": {},
   "outputs": [
    {
     "name": "stdout",
     "output_type": "stream",
     "text": [
      "[[1], [3], [4, 5]]\n"
     ]
    }
   ],
   "source": [
    "#Exercise 4.3 Task 4\n",
    "def remove_element(lst, elem):\n",
    "  result = []\n",
    "  for item in lst:\n",
    "    if isinstance(item,list):\n",
    "      filtered_sublist = remove_element(item,elem)\n",
    "      if filtered_sublist:\n",
    "        result.append(filtered_sublist)\n",
    "    elif item != elem:\n",
    "      result.append(item)\n",
    "  return result\n",
    "\n",
    "input_list = [[1,2],[3,2],[4,5]]\n",
    "print(remove_element(input_list,2))\n",
    "  "
   ]
  },
  {
   "cell_type": "code",
   "execution_count": 15,
   "metadata": {},
   "outputs": [
    {
     "name": "stdout",
     "output_type": "stream",
     "text": [
      "6\n"
     ]
    }
   ],
   "source": [
    "#Exercise 4.3 Task 5\n",
    "def find_max(lst):\n",
    "  max_value = float('-inf')\n",
    "  for item in lst: \n",
    "    if isinstance(item,list):\n",
    "      max_value = max(max_value, find_max(item))\n",
    "    else: \n",
    "      max_value = max(max_value, item)\n",
    "  return max_value\n",
    "\n",
    "input_list = [[1,2],[3,[4,5]],[6]]\n",
    "print(find_max(input_list))\n",
    "    "
   ]
  },
  {
   "cell_type": "code",
   "execution_count": 16,
   "metadata": {},
   "outputs": [
    {
     "name": "stdout",
     "output_type": "stream",
     "text": [
      "3\n"
     ]
    }
   ],
   "source": [
    "#Exercise 4.3 Task 6\n",
    "def count_occurences(lst, elem):\n",
    "  count = 0\n",
    "  for item in lst:\n",
    "    if isinstance(item, list): \n",
    "      count += count_occurences(item, elem)\n",
    "    elif item == elem:\n",
    "      count += 1\n",
    "  return count \n",
    "\n",
    "input_list = [[1,2],[2,3],[2,4]]\n",
    "print(count_occurences(input_list,2))"
   ]
  },
  {
   "cell_type": "code",
   "execution_count": 17,
   "metadata": {},
   "outputs": [
    {
     "name": "stdout",
     "output_type": "stream",
     "text": [
      "[1, 2, 3, 4, 5, 6, 7, 8]\n"
     ]
    }
   ],
   "source": [
    "#Exercise 4.3 Task 7\n",
    "def deep_flatten(lst):\n",
    "  flat_list = []\n",
    "  for item in lst:\n",
    "    if isinstance(item, list):\n",
    "      flat_list.extend(deep_flatten(item))\n",
    "    else: \n",
    "      flat_list.append(item)\n",
    "  return flat_list\n",
    "\n",
    "input_list = [[[1,2],[3,4]],[[5,6],[7,8]]]\n",
    "print(deep_flatten(input_list))"
   ]
  },
  {
   "cell_type": "code",
   "execution_count": 18,
   "metadata": {},
   "outputs": [
    {
     "name": "stdout",
     "output_type": "stream",
     "text": [
      "3.5\n"
     ]
    }
   ],
   "source": [
    "#Exercise 4.3 Task 8\n",
    "def average_nested(lst):\n",
    "  flattened = deep_flatten(lst)\n",
    "  return sum(flattened) / len(flattened) if flattened else 0\n",
    "\n",
    "input_list = [[1,2],[3,4],[5,6]]\n",
    "print(average_nested(input_list))"
   ]
  },
  {
   "cell_type": "code",
   "execution_count": 19,
   "metadata": {},
   "outputs": [
    {
     "name": "stdout",
     "output_type": "stream",
     "text": [
      "Empty Array:\n",
      " [[0. 0.]\n",
      " [0. 0.]]\n",
      "Ones Array:\n",
      " [[1. 1.]\n",
      " [1. 1.]\n",
      " [1. 1.]\n",
      " [1. 1.]]\n",
      "Filled Array:\n",
      " [[7 7 7]\n",
      " [7 7 7]\n",
      " [7 7 7]]\n",
      "Zeros Like:\n",
      " [[0 0 0]\n",
      " [0 0 0]]\n",
      "Ones Like:\n",
      " [[1 1 1]\n",
      " [1 1 1]]\n",
      "Converted NumPy Array: [1 2 3 4]\n"
     ]
    }
   ],
   "source": [
    "#Problem 1\n",
    "import numpy as np\n",
    "\n",
    "# 1. Initialize an empty array with size 2x2\n",
    "empty_array = np.empty((2, 2))\n",
    "print(\"Empty Array:\\n\", empty_array)\n",
    "\n",
    "# 2. Initialize an all-one array with size 4x2\n",
    "ones_array = np.ones((4, 2))\n",
    "print(\"Ones Array:\\n\", ones_array)\n",
    "\n",
    "# 3. Return a new array of given shape and type, filled with a value\n",
    "filled_array = np.full((3, 3), 7)\n",
    "print(\"Filled Array:\\n\", filled_array)\n",
    "\n",
    "# 4. Return a new zero array with the same shape and type as another array\n",
    "reference_array = np.array([[1, 2, 3], [4, 5, 6]])\n",
    "zero_like_array = np.zeros_like(reference_array)\n",
    "print(\"Zeros Like:\\n\", zero_like_array)\n",
    "\n",
    "# 5. Return a new ones array with the same shape and type as another array\n",
    "ones_like_array = np.ones_like(reference_array)\n",
    "print(\"Ones Like:\\n\", ones_like_array)\n",
    "\n",
    "# 6. Convert a Python list to a NumPy array\n",
    "new_list = [1, 2, 3, 4]\n",
    "numpy_array = np.array(new_list)\n",
    "print(\"Converted NumPy Array:\", numpy_array)"
   ]
  },
  {
   "cell_type": "code",
   "execution_count": 20,
   "metadata": {},
   "outputs": [
    {
     "name": "stdout",
     "output_type": "stream",
     "text": [
      "Range Array: [10 11 12 13 14 15 16 17 18 19 20 21 22 23 24 25 26 27 28 29 30 31 32 33\n",
      " 34 35 36 37 38 39 40 41 42 43 44 45 46 47 48 49]\n",
      "3x3 Matrix:\n",
      " [[0 1 2]\n",
      " [3 4 5]\n",
      " [6 7 8]]\n",
      "Identity Matrix:\n",
      " [[1. 0. 0.]\n",
      " [0. 1. 0.]\n",
      " [0. 0. 1.]]\n",
      "Mean of Random Array: 0.5225163759784468\n",
      "Min: 0.0039564574201319536 Max: 0.9919509002191695\n",
      "Modified Zero Array: [0. 0. 0. 0. 1. 0. 0. 0. 0. 0.]\n",
      "Reversed Array: [0 4 0 0 2 1]\n",
      "Bordered Array:\n",
      " [[1. 1. 1. 1. 1.]\n",
      " [1. 0. 0. 0. 1.]\n",
      " [1. 0. 0. 0. 1.]\n",
      " [1. 0. 0. 0. 1.]\n",
      " [1. 1. 1. 1. 1.]]\n",
      "Checkerboard Pattern:\n",
      " [[0. 1. 0. 1. 0. 1. 0. 1.]\n",
      " [1. 0. 1. 0. 1. 0. 1. 0.]\n",
      " [0. 1. 0. 1. 0. 1. 0. 1.]\n",
      " [1. 0. 1. 0. 1. 0. 1. 0.]\n",
      " [0. 1. 0. 1. 0. 1. 0. 1.]\n",
      " [1. 0. 1. 0. 1. 0. 1. 0.]\n",
      " [0. 1. 0. 1. 0. 1. 0. 1.]\n",
      " [1. 0. 1. 0. 1. 0. 1. 0.]]\n"
     ]
    }
   ],
   "source": [
    "#Problem 2\n",
    "# 1. Create an array with values ranging from 10 to 49\n",
    "range_array = np.arange(10, 50)\n",
    "print(\"Range Array:\", range_array)\n",
    "\n",
    "# 2. Create a 3x3 matrix with values ranging from 0 to 8\n",
    "matrix_3x3 = np.arange(9).reshape(3, 3)\n",
    "print(\"3x3 Matrix:\\n\", matrix_3x3)\n",
    "\n",
    "# 3. Create a 3x3 identity matrix\n",
    "identity_matrix = np.eye(3)\n",
    "print(\"Identity Matrix:\\n\", identity_matrix)\n",
    "\n",
    "# 4. Create a random array of size 30 and find its mean\n",
    "random_array = np.random.random(30)\n",
    "print(\"Mean of Random Array:\", random_array.mean())\n",
    "\n",
    "# 5. Create a 10x10 array with random values and find min & max\n",
    "random_matrix = np.random.random((10, 10))\n",
    "print(\"Min:\", random_matrix.min(), \"Max:\", random_matrix.max())\n",
    "\n",
    "# 6. Create a zero array of size 10 and replace the 5th element with 1\n",
    "zero_array = np.zeros(10)\n",
    "zero_array[4] = 1\n",
    "print(\"Modified Zero Array:\", zero_array)\n",
    "\n",
    "# 7. Reverse an array\n",
    "arr = np.array([1, 2, 0, 0, 4, 0])\n",
    "reversed_arr = arr[::-1]\n",
    "print(\"Reversed Array:\", reversed_arr)\n",
    "\n",
    "# 8. Create a 2D array with 1s on the border and 0s inside\n",
    "border_array = np.ones((5, 5))\n",
    "border_array[1:-1, 1:-1] = 0\n",
    "print(\"Bordered Array:\\n\", border_array)\n",
    "\n",
    "# 9. Create an 8x8 checkerboard pattern\n",
    "checkerboard = np.zeros((8, 8))\n",
    "checkerboard[1::2, ::2] = 1\n",
    "checkerboard[::2, 1::2] = 1\n",
    "print(\"Checkerboard Pattern:\\n\", checkerboard)"
   ]
  },
  {
   "cell_type": "code",
   "execution_count": 21,
   "metadata": {},
   "outputs": [
    {
     "name": "stdout",
     "output_type": "stream",
     "text": [
      "Addition:\n",
      " [[ 6  8]\n",
      " [10 13]]\n",
      "Subtraction:\n",
      " [[-4 -4]\n",
      " [-4 -3]]\n",
      "Multiplied:\n",
      " [[ 3  6]\n",
      " [ 9 15]]\n",
      "Squared:\n",
      " [[ 1  4]\n",
      " [ 9 25]]\n",
      "Dot Product (v & w): 219\n",
      "Dot Product (x & v): [29 77]\n",
      "Dot Product (x & y):\n",
      " [[19 22]\n",
      " [50 58]]\n",
      "Concatenation (x & y):\n",
      " [[1 2]\n",
      " [3 5]\n",
      " [5 6]\n",
      " [7 8]]\n",
      "Concatenation (v & w):\n",
      " [[ 9 10]\n",
      " [11 12]]\n",
      "Error: all the input arrays must have same number of dimensions, but the array at index 0 has 2 dimension(s) and the array at index 1 has 1 dimension(s)\n"
     ]
    }
   ],
   "source": [
    "#Problem 3\n",
    "x = np.array([[1, 2], [3, 5]])\n",
    "y = np.array([[5, 6], [7, 8]])\n",
    "v = np.array([9, 10])\n",
    "w = np.array([11, 12])\n",
    "\n",
    "# 1. Addition\n",
    "add_result = x + y\n",
    "print(\"Addition:\\n\", add_result)\n",
    "\n",
    "# 2. Subtraction\n",
    "sub_result = x - y\n",
    "print(\"Subtraction:\\n\", sub_result)\n",
    "\n",
    "# 3. Multiply with an integer\n",
    "mult_result = x * 3\n",
    "print(\"Multiplied:\\n\", mult_result)\n",
    "\n",
    "# 4. Square each element\n",
    "square_result = np.square(x)\n",
    "print(\"Squared:\\n\", square_result)\n",
    "\n",
    "# 5. Dot Product\n",
    "dot_vw = np.dot(v, w)\n",
    "dot_xv = np.dot(x, v)\n",
    "dot_xy = np.dot(x, y)\n",
    "print(\"Dot Product (v & w):\", dot_vw)\n",
    "print(\"Dot Product (x & v):\", dot_xv)\n",
    "print(\"Dot Product (x & y):\\n\", dot_xy)\n",
    "\n",
    "# 6. Concatenation\n",
    "concat_x_y = np.concatenate((x, y), axis=0)\n",
    "concat_v_w = np.vstack((v, w))\n",
    "print(\"Concatenation (x & y):\\n\", concat_x_y)\n",
    "print(\"Concatenation (v & w):\\n\", concat_v_w)\n",
    "\n",
    "# 7. Concatenating x & v (Error Explanation)\n",
    "try:\n",
    "    np.concatenate((x, v), axis=0)\n",
    "except ValueError as e:\n",
    "    print(\"Error:\", e)  # Shapes mismatch: Cannot concatenate 2D and 1D arrays"
   ]
  },
  {
   "cell_type": "code",
   "execution_count": 22,
   "metadata": {},
   "outputs": [
    {
     "name": "stdout",
     "output_type": "stream",
     "text": [
      "A * A⁻¹:\n",
      " [[1.00000000e+00 0.00000000e+00]\n",
      " [1.77635684e-15 1.00000000e+00]]\n",
      "AB:\n",
      " [[23 13]\n",
      " [51 29]]\n",
      "BA:\n",
      " [[36 44]\n",
      " [13 16]]\n",
      "AB == BA? False\n",
      "(AB)ᵀ:\n",
      " [[23 51]\n",
      " [13 29]]\n",
      "Bᵀ Aᵀ:\n",
      " [[23 51]\n",
      " [13 29]]\n",
      "(AB)ᵀ == Bᵀ Aᵀ? True\n",
      "Solution for system of equations: [ 2.  1. -2.]\n"
     ]
    }
   ],
   "source": [
    "#Problem 4\n",
    "A = np.array([[3, 4], [7, 8]])\n",
    "B = np.array([[5, 3], [2, 1]])\n",
    "\n",
    "# 1. Prove A * A⁻¹ = I\n",
    "A_inv = np.linalg.inv(A)\n",
    "identity = np.dot(A, A_inv)\n",
    "print(\"A * A⁻¹:\\n\", identity)\n",
    "\n",
    "# 2. Prove AB ≠ BA\n",
    "AB = np.dot(A, B)\n",
    "BA = np.dot(B, A)\n",
    "print(\"AB:\\n\", AB)\n",
    "print(\"BA:\\n\", BA)\n",
    "print(\"AB == BA?\", np.array_equal(AB, BA))  # Should be False\n",
    "\n",
    "# 3. Prove (AB)ᵀ = Bᵀ Aᵀ\n",
    "transpose_AB = np.transpose(AB)\n",
    "transpose_BA = np.dot(np.transpose(B), np.transpose(A))\n",
    "print(\"(AB)ᵀ:\\n\", transpose_AB)\n",
    "print(\"Bᵀ Aᵀ:\\n\", transpose_BA)\n",
    "print(\"(AB)ᵀ == Bᵀ Aᵀ?\", np.array_equal(transpose_AB, transpose_BA))  # Should be True\n",
    "\n",
    "# Solve system of equations using inverse method\n",
    "A_matrix = np.array([[2, -3, 1], [1, -1, 2], [3, 1, -1]])\n",
    "B_matrix = np.array([-1, -3, 9])\n",
    "\n",
    "X_solution = np.linalg.solve(A_matrix, B_matrix)\n",
    "print(\"Solution for system of equations:\", X_solution)"
   ]
  },
  {
   "cell_type": "code",
   "execution_count": 23,
   "metadata": {},
   "outputs": [
    {
     "name": "stdout",
     "output_type": "stream",
     "text": [
      "Python List Addition Time: 0.040947914123535156\n",
      "NumPy Array Addition Time: 0.0022919178009033203\n",
      "Python List Multiplication Time: 0.04860496520996094\n",
      "NumPy Array Multiplication Time: 0.0015211105346679688\n",
      "Python List Dot Product Time: 0.06514596939086914\n",
      "NumPy Array Dot Product Time: 0.0006687641143798828\n"
     ]
    }
   ],
   "source": [
    "#Exercise 10.2\n",
    "import time\n",
    "\n",
    "size = 1_000_000\n",
    "list1 = list(range(size))\n",
    "list2 = list(range(size))\n",
    "\n",
    "array1 = np.arange(size)\n",
    "array2 = np.arange(size)\n",
    "\n",
    "# 1. Element-wise Addition\n",
    "start = time.time()\n",
    "result_list = [x + y for x, y in zip(list1, list2)]\n",
    "end = time.time()\n",
    "print(\"Python List Addition Time:\", end - start)\n",
    "\n",
    "start = time.time()\n",
    "result_array = array1 + array2\n",
    "end = time.time()\n",
    "print(\"NumPy Array Addition Time:\", end - start)\n",
    "\n",
    "# 2. Element-wise Multiplication\n",
    "start = time.time()\n",
    "result_list = [x * y for x, y in zip(list1, list2)]\n",
    "end = time.time()\n",
    "print(\"Python List Multiplication Time:\", end - start)\n",
    "\n",
    "start = time.time()\n",
    "result_array = array1 * array2\n",
    "end = time.time()\n",
    "print(\"NumPy Array Multiplication Time:\", end - start)\n",
    "\n",
    "# 3. Dot Product\n",
    "start = time.time()\n",
    "dot_list = sum(x * y for x, y in zip(list1, list2))\n",
    "end = time.time()\n",
    "print(\"Python List Dot Product Time:\", end - start)\n",
    "\n",
    "start = time.time()\n",
    "dot_array = np.dot(array1, array2)\n",
    "end = time.time()\n",
    "print(\"NumPy Array Dot Product Time:\", end - start)"
   ]
  }
 ],
 "metadata": {
  "kernelspec": {
   "display_name": "Python 3",
   "language": "python",
   "name": "python3"
  },
  "language_info": {
   "codemirror_mode": {
    "name": "ipython",
    "version": 3
   },
   "file_extension": ".py",
   "mimetype": "text/x-python",
   "name": "python",
   "nbconvert_exporter": "python",
   "pygments_lexer": "ipython3",
   "version": "3.13.2"
  }
 },
 "nbformat": 4,
 "nbformat_minor": 2
}
